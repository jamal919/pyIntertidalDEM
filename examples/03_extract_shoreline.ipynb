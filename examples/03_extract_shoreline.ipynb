{
 "cells": [
  {
   "cell_type": "code",
   "metadata": {},
   "source": [
    "# uncomment the following if you had not installed the package\n",
    "# import sys\n",
    "# sys.path.append('/home/khan/Documents/developments/pyIntertidalDEM')\n",
    "\n",
    "from pyintdem.core import RGB\n",
    "from pyintdem.data import Database\n",
    "from pathlib import Path\n",
    "import logging\n",
    "\n",
    "from pyintdem.workflows.khan2019 import process_database"
   ],
   "outputs": [],
   "execution_count": null
  },
  {
   "cell_type": "code",
   "execution_count": 3,
   "metadata": {},
   "outputs": [],
   "source": [
    "logging.basicConfig()\n",
    "logging.basicConfig(level=logging.INFO,\n",
    "                    filename='03_extract_shoreline.log',\n",
    "                    filemode='w')\n",
    "logging.captureWarnings(True)"
   ]
  },
  {
   "cell_type": "code",
   "execution_count": 4,
   "metadata": {},
   "outputs": [],
   "source": [
    "datadir = Path('/run/media/khan/Workbench/Developments/Bengal/Data')\n",
    "maskdir = Path('/run/media/khan/Workbench/Developments/Bengal/Masks')\n",
    "shorelinedir = Path('/run/media/khan/Workbench/Developments/Bengal/Shorelines')"
   ]
  },
  {
   "cell_type": "code",
   "execution_count": 5,
   "metadata": {},
   "outputs": [
    {
     "data": {
      "text/plain": [
       "{'T46QBK': [{'filetype': 'theia',\n",
       "   'fpath': '/run/media/khan/Workbench/Developments/Bengal/Data/T46QBK/SENTINEL2A_20160118-044355-092_L2A_T46QBK_D_V1-8.zip',\n",
       "   'mission': 'SENTINEL2A',\n",
       "   'product': 'L2A',\n",
       "   'version': 'V1-8',\n",
       "   'time': Timestamp('2016-01-18 04:43:55.092000'),\n",
       "   'tile': 'T46QBK',\n",
       "   'bands': {'B11': '/vsizip//run/media/khan/Workbench/Developments/Bengal/Data/T46QBK/SENTINEL2A_20160118-044355-092_L2A_T46QBK_D_V1-8.zip/SENTINEL2A_20160118-044355-092_L2A_T46QBK_D_V1-8/SENTINEL2A_20160118-044355-092_L2A_T46QBK_D_V1-8_FRE_B11.tif',\n",
       "    'B4': '/vsizip//run/media/khan/Workbench/Developments/Bengal/Data/T46QBK/SENTINEL2A_20160118-044355-092_L2A_T46QBK_D_V1-8.zip/SENTINEL2A_20160118-044355-092_L2A_T46QBK_D_V1-8/SENTINEL2A_20160118-044355-092_L2A_T46QBK_D_V1-8_FRE_B4.tif',\n",
       "    'B6': '/vsizip//run/media/khan/Workbench/Developments/Bengal/Data/T46QBK/SENTINEL2A_20160118-044355-092_L2A_T46QBK_D_V1-8.zip/SENTINEL2A_20160118-044355-092_L2A_T46QBK_D_V1-8/SENTINEL2A_20160118-044355-092_L2A_T46QBK_D_V1-8_FRE_B6.tif',\n",
       "    'B8': '/vsizip//run/media/khan/Workbench/Developments/Bengal/Data/T46QBK/SENTINEL2A_20160118-044355-092_L2A_T46QBK_D_V1-8.zip/SENTINEL2A_20160118-044355-092_L2A_T46QBK_D_V1-8/SENTINEL2A_20160118-044355-092_L2A_T46QBK_D_V1-8_FRE_B8.tif',\n",
       "    'B12': '/vsizip//run/media/khan/Workbench/Developments/Bengal/Data/T46QBK/SENTINEL2A_20160118-044355-092_L2A_T46QBK_D_V1-8.zip/SENTINEL2A_20160118-044355-092_L2A_T46QBK_D_V1-8/SENTINEL2A_20160118-044355-092_L2A_T46QBK_D_V1-8_FRE_B12.tif',\n",
       "    'B3': '/vsizip//run/media/khan/Workbench/Developments/Bengal/Data/T46QBK/SENTINEL2A_20160118-044355-092_L2A_T46QBK_D_V1-8.zip/SENTINEL2A_20160118-044355-092_L2A_T46QBK_D_V1-8/SENTINEL2A_20160118-044355-092_L2A_T46QBK_D_V1-8_FRE_B3.tif',\n",
       "    'B8A': '/vsizip//run/media/khan/Workbench/Developments/Bengal/Data/T46QBK/SENTINEL2A_20160118-044355-092_L2A_T46QBK_D_V1-8.zip/SENTINEL2A_20160118-044355-092_L2A_T46QBK_D_V1-8/SENTINEL2A_20160118-044355-092_L2A_T46QBK_D_V1-8_FRE_B8A.tif',\n",
       "    'B2': '/vsizip//run/media/khan/Workbench/Developments/Bengal/Data/T46QBK/SENTINEL2A_20160118-044355-092_L2A_T46QBK_D_V1-8.zip/SENTINEL2A_20160118-044355-092_L2A_T46QBK_D_V1-8/SENTINEL2A_20160118-044355-092_L2A_T46QBK_D_V1-8_FRE_B2.tif',\n",
       "    'B5': '/vsizip//run/media/khan/Workbench/Developments/Bengal/Data/T46QBK/SENTINEL2A_20160118-044355-092_L2A_T46QBK_D_V1-8.zip/SENTINEL2A_20160118-044355-092_L2A_T46QBK_D_V1-8/SENTINEL2A_20160118-044355-092_L2A_T46QBK_D_V1-8_FRE_B5.tif',\n",
       "    'B7': '/vsizip//run/media/khan/Workbench/Developments/Bengal/Data/T46QBK/SENTINEL2A_20160118-044355-092_L2A_T46QBK_D_V1-8.zip/SENTINEL2A_20160118-044355-092_L2A_T46QBK_D_V1-8/SENTINEL2A_20160118-044355-092_L2A_T46QBK_D_V1-8_FRE_B7.tif'}},\n",
       "  {'filetype': 'theia',\n",
       "   'fpath': '/run/media/khan/Workbench/Developments/Bengal/Data/T46QBK/SENTINEL2A_20161113-043537-729_L2A_T46QBK_D_V1-8.zip',\n",
       "   'mission': 'SENTINEL2A',\n",
       "   'product': 'L2A',\n",
       "   'version': 'V1-8',\n",
       "   'time': Timestamp('2016-11-13 04:35:37.729000'),\n",
       "   'tile': 'T46QBK',\n",
       "   'bands': {'B6': '/vsizip//run/media/khan/Workbench/Developments/Bengal/Data/T46QBK/SENTINEL2A_20161113-043537-729_L2A_T46QBK_D_V1-8.zip/SENTINEL2A_20161113-043537-729_L2A_T46QBK_D_V1-8/SENTINEL2A_20161113-043537-729_L2A_T46QBK_D_V1-8_FRE_B6.tif',\n",
       "    'B5': '/vsizip//run/media/khan/Workbench/Developments/Bengal/Data/T46QBK/SENTINEL2A_20161113-043537-729_L2A_T46QBK_D_V1-8.zip/SENTINEL2A_20161113-043537-729_L2A_T46QBK_D_V1-8/SENTINEL2A_20161113-043537-729_L2A_T46QBK_D_V1-8_FRE_B5.tif',\n",
       "    'B7': '/vsizip//run/media/khan/Workbench/Developments/Bengal/Data/T46QBK/SENTINEL2A_20161113-043537-729_L2A_T46QBK_D_V1-8.zip/SENTINEL2A_20161113-043537-729_L2A_T46QBK_D_V1-8/SENTINEL2A_20161113-043537-729_L2A_T46QBK_D_V1-8_FRE_B7.tif',\n",
       "    'B4': '/vsizip//run/media/khan/Workbench/Developments/Bengal/Data/T46QBK/SENTINEL2A_20161113-043537-729_L2A_T46QBK_D_V1-8.zip/SENTINEL2A_20161113-043537-729_L2A_T46QBK_D_V1-8/SENTINEL2A_20161113-043537-729_L2A_T46QBK_D_V1-8_FRE_B4.tif',\n",
       "    'B2': '/vsizip//run/media/khan/Workbench/Developments/Bengal/Data/T46QBK/SENTINEL2A_20161113-043537-729_L2A_T46QBK_D_V1-8.zip/SENTINEL2A_20161113-043537-729_L2A_T46QBK_D_V1-8/SENTINEL2A_20161113-043537-729_L2A_T46QBK_D_V1-8_FRE_B2.tif',\n",
       "    'B8': '/vsizip//run/media/khan/Workbench/Developments/Bengal/Data/T46QBK/SENTINEL2A_20161113-043537-729_L2A_T46QBK_D_V1-8.zip/SENTINEL2A_20161113-043537-729_L2A_T46QBK_D_V1-8/SENTINEL2A_20161113-043537-729_L2A_T46QBK_D_V1-8_FRE_B8.tif',\n",
       "    'B8A': '/vsizip//run/media/khan/Workbench/Developments/Bengal/Data/T46QBK/SENTINEL2A_20161113-043537-729_L2A_T46QBK_D_V1-8.zip/SENTINEL2A_20161113-043537-729_L2A_T46QBK_D_V1-8/SENTINEL2A_20161113-043537-729_L2A_T46QBK_D_V1-8_FRE_B8A.tif',\n",
       "    'B11': '/vsizip//run/media/khan/Workbench/Developments/Bengal/Data/T46QBK/SENTINEL2A_20161113-043537-729_L2A_T46QBK_D_V1-8.zip/SENTINEL2A_20161113-043537-729_L2A_T46QBK_D_V1-8/SENTINEL2A_20161113-043537-729_L2A_T46QBK_D_V1-8_FRE_B11.tif',\n",
       "    'B3': '/vsizip//run/media/khan/Workbench/Developments/Bengal/Data/T46QBK/SENTINEL2A_20161113-043537-729_L2A_T46QBK_D_V1-8.zip/SENTINEL2A_20161113-043537-729_L2A_T46QBK_D_V1-8/SENTINEL2A_20161113-043537-729_L2A_T46QBK_D_V1-8_FRE_B3.tif',\n",
       "    'B12': '/vsizip//run/media/khan/Workbench/Developments/Bengal/Data/T46QBK/SENTINEL2A_20161113-043537-729_L2A_T46QBK_D_V1-8.zip/SENTINEL2A_20161113-043537-729_L2A_T46QBK_D_V1-8/SENTINEL2A_20161113-043537-729_L2A_T46QBK_D_V1-8_FRE_B12.tif'}},\n",
       "  {'filetype': 'theia',\n",
       "   'fpath': '/run/media/khan/Workbench/Developments/Bengal/Data/T46QBK/SENTINEL2A_20161213-043722-375_L2A_T46QBK_D_V1-4.zip',\n",
       "   'mission': 'SENTINEL2A',\n",
       "   'product': 'L2A',\n",
       "   'version': 'V1-4',\n",
       "   'time': Timestamp('2016-12-13 04:37:22.375000'),\n",
       "   'tile': 'T46QBK',\n",
       "   'bands': {'B11': '/vsizip//run/media/khan/Workbench/Developments/Bengal/Data/T46QBK/SENTINEL2A_20161213-043722-375_L2A_T46QBK_D_V1-4.zip/SENTINEL2A_20161213-043722-375_L2A_T46QBK_D_V1-4/SENTINEL2A_20161213-043722-375_L2A_T46QBK_D_V1-4_FRE_B11.tif',\n",
       "    'B4': '/vsizip//run/media/khan/Workbench/Developments/Bengal/Data/T46QBK/SENTINEL2A_20161213-043722-375_L2A_T46QBK_D_V1-4.zip/SENTINEL2A_20161213-043722-375_L2A_T46QBK_D_V1-4/SENTINEL2A_20161213-043722-375_L2A_T46QBK_D_V1-4_FRE_B4.tif',\n",
       "    'B12': '/vsizip//run/media/khan/Workbench/Developments/Bengal/Data/T46QBK/SENTINEL2A_20161213-043722-375_L2A_T46QBK_D_V1-4.zip/SENTINEL2A_20161213-043722-375_L2A_T46QBK_D_V1-4/SENTINEL2A_20161213-043722-375_L2A_T46QBK_D_V1-4_FRE_B12.tif',\n",
       "    'B7': '/vsizip//run/media/khan/Workbench/Developments/Bengal/Data/T46QBK/SENTINEL2A_20161213-043722-375_L2A_T46QBK_D_V1-4.zip/SENTINEL2A_20161213-043722-375_L2A_T46QBK_D_V1-4/SENTINEL2A_20161213-043722-375_L2A_T46QBK_D_V1-4_FRE_B7.tif',\n",
       "    'B8A': '/vsizip//run/media/khan/Workbench/Developments/Bengal/Data/T46QBK/SENTINEL2A_20161213-043722-375_L2A_T46QBK_D_V1-4.zip/SENTINEL2A_20161213-043722-375_L2A_T46QBK_D_V1-4/SENTINEL2A_20161213-043722-375_L2A_T46QBK_D_V1-4_FRE_B8A.tif',\n",
       "    'B2': '/vsizip//run/media/khan/Workbench/Developments/Bengal/Data/T46QBK/SENTINEL2A_20161213-043722-375_L2A_T46QBK_D_V1-4.zip/SENTINEL2A_20161213-043722-375_L2A_T46QBK_D_V1-4/SENTINEL2A_20161213-043722-375_L2A_T46QBK_D_V1-4_FRE_B2.tif',\n",
       "    'B5': '/vsizip//run/media/khan/Workbench/Developments/Bengal/Data/T46QBK/SENTINEL2A_20161213-043722-375_L2A_T46QBK_D_V1-4.zip/SENTINEL2A_20161213-043722-375_L2A_T46QBK_D_V1-4/SENTINEL2A_20161213-043722-375_L2A_T46QBK_D_V1-4_FRE_B5.tif',\n",
       "    'B8': '/vsizip//run/media/khan/Workbench/Developments/Bengal/Data/T46QBK/SENTINEL2A_20161213-043722-375_L2A_T46QBK_D_V1-4.zip/SENTINEL2A_20161213-043722-375_L2A_T46QBK_D_V1-4/SENTINEL2A_20161213-043722-375_L2A_T46QBK_D_V1-4_FRE_B8.tif',\n",
       "    'B3': '/vsizip//run/media/khan/Workbench/Developments/Bengal/Data/T46QBK/SENTINEL2A_20161213-043722-375_L2A_T46QBK_D_V1-4.zip/SENTINEL2A_20161213-043722-375_L2A_T46QBK_D_V1-4/SENTINEL2A_20161213-043722-375_L2A_T46QBK_D_V1-4_FRE_B3.tif',\n",
       "    'B6': '/vsizip//run/media/khan/Workbench/Developments/Bengal/Data/T46QBK/SENTINEL2A_20161213-043722-375_L2A_T46QBK_D_V1-4.zip/SENTINEL2A_20161213-043722-375_L2A_T46QBK_D_V1-4/SENTINEL2A_20161213-043722-375_L2A_T46QBK_D_V1-4_FRE_B6.tif'}}],\n",
       " 'T46QCK': [{'filetype': 'theia',\n",
       "   'fpath': '/run/media/khan/Workbench/Developments/Bengal/Data/T46QCK/SENTINEL2A_20160118-044355-092_L2A_T46QCK_D_V1-8.zip',\n",
       "   'mission': 'SENTINEL2A',\n",
       "   'product': 'L2A',\n",
       "   'version': 'V1-8',\n",
       "   'time': Timestamp('2016-01-18 04:43:55.092000'),\n",
       "   'tile': 'T46QCK',\n",
       "   'bands': {'B3': '/vsizip//run/media/khan/Workbench/Developments/Bengal/Data/T46QCK/SENTINEL2A_20160118-044355-092_L2A_T46QCK_D_V1-8.zip/SENTINEL2A_20160118-044355-092_L2A_T46QCK_D_V1-8/SENTINEL2A_20160118-044355-092_L2A_T46QCK_D_V1-8_FRE_B3.tif',\n",
       "    'B8A': '/vsizip//run/media/khan/Workbench/Developments/Bengal/Data/T46QCK/SENTINEL2A_20160118-044355-092_L2A_T46QCK_D_V1-8.zip/SENTINEL2A_20160118-044355-092_L2A_T46QCK_D_V1-8/SENTINEL2A_20160118-044355-092_L2A_T46QCK_D_V1-8_FRE_B8A.tif',\n",
       "    'B5': '/vsizip//run/media/khan/Workbench/Developments/Bengal/Data/T46QCK/SENTINEL2A_20160118-044355-092_L2A_T46QCK_D_V1-8.zip/SENTINEL2A_20160118-044355-092_L2A_T46QCK_D_V1-8/SENTINEL2A_20160118-044355-092_L2A_T46QCK_D_V1-8_FRE_B5.tif',\n",
       "    'B7': '/vsizip//run/media/khan/Workbench/Developments/Bengal/Data/T46QCK/SENTINEL2A_20160118-044355-092_L2A_T46QCK_D_V1-8.zip/SENTINEL2A_20160118-044355-092_L2A_T46QCK_D_V1-8/SENTINEL2A_20160118-044355-092_L2A_T46QCK_D_V1-8_FRE_B7.tif',\n",
       "    'B8': '/vsizip//run/media/khan/Workbench/Developments/Bengal/Data/T46QCK/SENTINEL2A_20160118-044355-092_L2A_T46QCK_D_V1-8.zip/SENTINEL2A_20160118-044355-092_L2A_T46QCK_D_V1-8/SENTINEL2A_20160118-044355-092_L2A_T46QCK_D_V1-8_FRE_B8.tif',\n",
       "    'B4': '/vsizip//run/media/khan/Workbench/Developments/Bengal/Data/T46QCK/SENTINEL2A_20160118-044355-092_L2A_T46QCK_D_V1-8.zip/SENTINEL2A_20160118-044355-092_L2A_T46QCK_D_V1-8/SENTINEL2A_20160118-044355-092_L2A_T46QCK_D_V1-8_FRE_B4.tif',\n",
       "    'B6': '/vsizip//run/media/khan/Workbench/Developments/Bengal/Data/T46QCK/SENTINEL2A_20160118-044355-092_L2A_T46QCK_D_V1-8.zip/SENTINEL2A_20160118-044355-092_L2A_T46QCK_D_V1-8/SENTINEL2A_20160118-044355-092_L2A_T46QCK_D_V1-8_FRE_B6.tif',\n",
       "    'B11': '/vsizip//run/media/khan/Workbench/Developments/Bengal/Data/T46QCK/SENTINEL2A_20160118-044355-092_L2A_T46QCK_D_V1-8.zip/SENTINEL2A_20160118-044355-092_L2A_T46QCK_D_V1-8/SENTINEL2A_20160118-044355-092_L2A_T46QCK_D_V1-8_FRE_B11.tif',\n",
       "    'B12': '/vsizip//run/media/khan/Workbench/Developments/Bengal/Data/T46QCK/SENTINEL2A_20160118-044355-092_L2A_T46QCK_D_V1-8.zip/SENTINEL2A_20160118-044355-092_L2A_T46QCK_D_V1-8/SENTINEL2A_20160118-044355-092_L2A_T46QCK_D_V1-8_FRE_B12.tif',\n",
       "    'B2': '/vsizip//run/media/khan/Workbench/Developments/Bengal/Data/T46QCK/SENTINEL2A_20160118-044355-092_L2A_T46QCK_D_V1-8.zip/SENTINEL2A_20160118-044355-092_L2A_T46QCK_D_V1-8/SENTINEL2A_20160118-044355-092_L2A_T46QCK_D_V1-8_FRE_B2.tif'}},\n",
       "  {'filetype': 'theia',\n",
       "   'fpath': '/run/media/khan/Workbench/Developments/Bengal/Data/T46QCK/SENTINEL2A_20161113-043537-729_L2A_T46QCK_D_V1-8.zip',\n",
       "   'mission': 'SENTINEL2A',\n",
       "   'product': 'L2A',\n",
       "   'version': 'V1-8',\n",
       "   'time': Timestamp('2016-11-13 04:35:37.729000'),\n",
       "   'tile': 'T46QCK',\n",
       "   'bands': {'B7': '/vsizip//run/media/khan/Workbench/Developments/Bengal/Data/T46QCK/SENTINEL2A_20161113-043537-729_L2A_T46QCK_D_V1-8.zip/SENTINEL2A_20161113-043537-729_L2A_T46QCK_D_V1-8/SENTINEL2A_20161113-043537-729_L2A_T46QCK_D_V1-8_FRE_B7.tif',\n",
       "    'B2': '/vsizip//run/media/khan/Workbench/Developments/Bengal/Data/T46QCK/SENTINEL2A_20161113-043537-729_L2A_T46QCK_D_V1-8.zip/SENTINEL2A_20161113-043537-729_L2A_T46QCK_D_V1-8/SENTINEL2A_20161113-043537-729_L2A_T46QCK_D_V1-8_FRE_B2.tif',\n",
       "    'B8A': '/vsizip//run/media/khan/Workbench/Developments/Bengal/Data/T46QCK/SENTINEL2A_20161113-043537-729_L2A_T46QCK_D_V1-8.zip/SENTINEL2A_20161113-043537-729_L2A_T46QCK_D_V1-8/SENTINEL2A_20161113-043537-729_L2A_T46QCK_D_V1-8_FRE_B8A.tif',\n",
       "    'B11': '/vsizip//run/media/khan/Workbench/Developments/Bengal/Data/T46QCK/SENTINEL2A_20161113-043537-729_L2A_T46QCK_D_V1-8.zip/SENTINEL2A_20161113-043537-729_L2A_T46QCK_D_V1-8/SENTINEL2A_20161113-043537-729_L2A_T46QCK_D_V1-8_FRE_B11.tif',\n",
       "    'B4': '/vsizip//run/media/khan/Workbench/Developments/Bengal/Data/T46QCK/SENTINEL2A_20161113-043537-729_L2A_T46QCK_D_V1-8.zip/SENTINEL2A_20161113-043537-729_L2A_T46QCK_D_V1-8/SENTINEL2A_20161113-043537-729_L2A_T46QCK_D_V1-8_FRE_B4.tif',\n",
       "    'B6': '/vsizip//run/media/khan/Workbench/Developments/Bengal/Data/T46QCK/SENTINEL2A_20161113-043537-729_L2A_T46QCK_D_V1-8.zip/SENTINEL2A_20161113-043537-729_L2A_T46QCK_D_V1-8/SENTINEL2A_20161113-043537-729_L2A_T46QCK_D_V1-8_FRE_B6.tif',\n",
       "    'B8': '/vsizip//run/media/khan/Workbench/Developments/Bengal/Data/T46QCK/SENTINEL2A_20161113-043537-729_L2A_T46QCK_D_V1-8.zip/SENTINEL2A_20161113-043537-729_L2A_T46QCK_D_V1-8/SENTINEL2A_20161113-043537-729_L2A_T46QCK_D_V1-8_FRE_B8.tif',\n",
       "    'B3': '/vsizip//run/media/khan/Workbench/Developments/Bengal/Data/T46QCK/SENTINEL2A_20161113-043537-729_L2A_T46QCK_D_V1-8.zip/SENTINEL2A_20161113-043537-729_L2A_T46QCK_D_V1-8/SENTINEL2A_20161113-043537-729_L2A_T46QCK_D_V1-8_FRE_B3.tif',\n",
       "    'B12': '/vsizip//run/media/khan/Workbench/Developments/Bengal/Data/T46QCK/SENTINEL2A_20161113-043537-729_L2A_T46QCK_D_V1-8.zip/SENTINEL2A_20161113-043537-729_L2A_T46QCK_D_V1-8/SENTINEL2A_20161113-043537-729_L2A_T46QCK_D_V1-8_FRE_B12.tif',\n",
       "    'B5': '/vsizip//run/media/khan/Workbench/Developments/Bengal/Data/T46QCK/SENTINEL2A_20161113-043537-729_L2A_T46QCK_D_V1-8.zip/SENTINEL2A_20161113-043537-729_L2A_T46QCK_D_V1-8/SENTINEL2A_20161113-043537-729_L2A_T46QCK_D_V1-8_FRE_B5.tif'}},\n",
       "  {'filetype': 'theia',\n",
       "   'fpath': '/run/media/khan/Workbench/Developments/Bengal/Data/T46QCK/SENTINEL2A_20161210-042210-109_L2A_T46QCK_D_V1-4.zip',\n",
       "   'mission': 'SENTINEL2A',\n",
       "   'product': 'L2A',\n",
       "   'version': 'V1-4',\n",
       "   'time': Timestamp('2016-12-10 04:22:10.109000'),\n",
       "   'tile': 'T46QCK',\n",
       "   'bands': {'B7': '/vsizip//run/media/khan/Workbench/Developments/Bengal/Data/T46QCK/SENTINEL2A_20161210-042210-109_L2A_T46QCK_D_V1-4.zip/SENTINEL2A_20161210-042210-109_L2A_T46QCK_D_V1-4/SENTINEL2A_20161210-042210-109_L2A_T46QCK_D_V1-4_FRE_B7.tif',\n",
       "    'B11': '/vsizip//run/media/khan/Workbench/Developments/Bengal/Data/T46QCK/SENTINEL2A_20161210-042210-109_L2A_T46QCK_D_V1-4.zip/SENTINEL2A_20161210-042210-109_L2A_T46QCK_D_V1-4/SENTINEL2A_20161210-042210-109_L2A_T46QCK_D_V1-4_FRE_B11.tif',\n",
       "    'B4': '/vsizip//run/media/khan/Workbench/Developments/Bengal/Data/T46QCK/SENTINEL2A_20161210-042210-109_L2A_T46QCK_D_V1-4.zip/SENTINEL2A_20161210-042210-109_L2A_T46QCK_D_V1-4/SENTINEL2A_20161210-042210-109_L2A_T46QCK_D_V1-4_FRE_B4.tif',\n",
       "    'B8': '/vsizip//run/media/khan/Workbench/Developments/Bengal/Data/T46QCK/SENTINEL2A_20161210-042210-109_L2A_T46QCK_D_V1-4.zip/SENTINEL2A_20161210-042210-109_L2A_T46QCK_D_V1-4/SENTINEL2A_20161210-042210-109_L2A_T46QCK_D_V1-4_FRE_B8.tif',\n",
       "    'B8A': '/vsizip//run/media/khan/Workbench/Developments/Bengal/Data/T46QCK/SENTINEL2A_20161210-042210-109_L2A_T46QCK_D_V1-4.zip/SENTINEL2A_20161210-042210-109_L2A_T46QCK_D_V1-4/SENTINEL2A_20161210-042210-109_L2A_T46QCK_D_V1-4_FRE_B8A.tif',\n",
       "    'B12': '/vsizip//run/media/khan/Workbench/Developments/Bengal/Data/T46QCK/SENTINEL2A_20161210-042210-109_L2A_T46QCK_D_V1-4.zip/SENTINEL2A_20161210-042210-109_L2A_T46QCK_D_V1-4/SENTINEL2A_20161210-042210-109_L2A_T46QCK_D_V1-4_FRE_B12.tif',\n",
       "    'B3': '/vsizip//run/media/khan/Workbench/Developments/Bengal/Data/T46QCK/SENTINEL2A_20161210-042210-109_L2A_T46QCK_D_V1-4.zip/SENTINEL2A_20161210-042210-109_L2A_T46QCK_D_V1-4/SENTINEL2A_20161210-042210-109_L2A_T46QCK_D_V1-4_FRE_B3.tif',\n",
       "    'B6': '/vsizip//run/media/khan/Workbench/Developments/Bengal/Data/T46QCK/SENTINEL2A_20161210-042210-109_L2A_T46QCK_D_V1-4.zip/SENTINEL2A_20161210-042210-109_L2A_T46QCK_D_V1-4/SENTINEL2A_20161210-042210-109_L2A_T46QCK_D_V1-4_FRE_B6.tif',\n",
       "    'B2': '/vsizip//run/media/khan/Workbench/Developments/Bengal/Data/T46QCK/SENTINEL2A_20161210-042210-109_L2A_T46QCK_D_V1-4.zip/SENTINEL2A_20161210-042210-109_L2A_T46QCK_D_V1-4/SENTINEL2A_20161210-042210-109_L2A_T46QCK_D_V1-4_FRE_B2.tif',\n",
       "    'B5': '/vsizip//run/media/khan/Workbench/Developments/Bengal/Data/T46QCK/SENTINEL2A_20161210-042210-109_L2A_T46QCK_D_V1-4.zip/SENTINEL2A_20161210-042210-109_L2A_T46QCK_D_V1-4/SENTINEL2A_20161210-042210-109_L2A_T46QCK_D_V1-4_FRE_B5.tif'}}]}"
      ]
     },
     "execution_count": 5,
     "metadata": {},
     "output_type": "execute_result"
    }
   ],
   "source": [
    "database = Database(datadir)\n",
    "zones = database.tiles\n",
    "database.filter()"
   ]
  },
  {
   "metadata": {},
   "cell_type": "code",
   "outputs": [],
   "execution_count": 6,
   "source": [
    "# Computation\n",
    "nhue = 0.5 # Thresholding parameter for Hue band\n",
    "nvalue = 3.0 # Thresholding parameter for Value band\n",
    "\n",
    "waterblob = 10000 # Remove water blob smaller than 10000 pixels\n",
    "landblob = 10000 # Remove land blobs smaller than 10000 pixels\n",
    "\n",
    "process_database(database=database,\n",
    "                 out_dir=shorelinedir,\n",
    "                 mask_dir=maskdir,\n",
    "                 nhue=nhue, nvalue=3.0,\n",
    "                 waterblob=waterblob, landblob=landblob,\n",
    "                 savetifs=False, saveplots=True,\n",
    "                 clip_kw=None, recompute=False)\n"
   ]
  },
  {
   "metadata": {},
   "cell_type": "code",
   "outputs": [],
   "execution_count": null,
   "source": ""
  }
 ],
 "metadata": {
  "kernelspec": {
   "display_name": "tumbleweed",
   "language": "python",
   "name": "python3"
  },
  "language_info": {
   "codemirror_mode": {
    "name": "ipython",
    "version": 3
   },
   "file_extension": ".py",
   "mimetype": "text/x-python",
   "name": "python",
   "nbconvert_exporter": "python",
   "pygments_lexer": "ipython3",
   "version": "3.9.18"
  }
 },
 "nbformat": 4,
 "nbformat_minor": 2
}
