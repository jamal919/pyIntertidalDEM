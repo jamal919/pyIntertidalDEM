{
 "cells": [
  {
   "cell_type": "code",
   "metadata": {},
   "source": [
    "# uncomment the following if you had not installed the package\n",
    "# import sys\n",
    "# sys.path.append('/home/khan/Documents/developments/pyIntertidalDEM')\n",
    "\n",
    "from pyintdem.data import Database\n",
    "from pathlib import Path\n",
    "import logging\n",
    "\n",
    "from pyintdem.workflows.khan2019 import process_database"
   ],
   "outputs": [],
   "execution_count": null
  },
  {
   "cell_type": "code",
   "metadata": {},
   "source": [
    "logging.basicConfig()\n",
    "logging.basicConfig(level=logging.INFO,\n",
    "                    filename='03_extract_shoreline.log',\n",
    "                    filemode='w')\n",
    "logging.captureWarnings(True)"
   ],
   "outputs": [],
   "execution_count": null
  },
  {
   "cell_type": "code",
   "metadata": {},
   "source": [
    "datadir = Path('/run/media/khan/Workbench/Developments/Bengal/Data')\n",
    "maskdir = Path('/run/media/khan/Workbench/Developments/Bengal/Masks')\n",
    "shorelinedir = Path('/run/media/khan/Workbench/Developments/Bengal/Shorelines')"
   ],
   "outputs": [],
   "execution_count": null
  },
  {
   "cell_type": "code",
   "metadata": {},
   "source": [
    "database = Database(datadir)\n",
    "zones = database.tiles\n",
    "database.filter()"
   ],
   "outputs": [],
   "execution_count": null
  },
  {
   "metadata": {},
   "cell_type": "code",
   "source": [
    "# Computation\n",
    "nhue = 0.5 # Thresholding parameter for Hue band\n",
    "nvalue = 3.0 # Thresholding parameter for Value band\n",
    "\n",
    "waterblob = 10000 # Remove water blob smaller than 10000 pixels\n",
    "landblob = 10000 # Remove land blobs smaller than 10000 pixels\n",
    "\n",
    "process_database(database=database,\n",
    "                 out_dir=shorelinedir,\n",
    "                 mask_dir=maskdir,\n",
    "                 nhue=nhue, nvalue=3.0,\n",
    "                 waterblob=waterblob, landblob=landblob,\n",
    "                 savetifs=False, saveplots=True,\n",
    "                 clip_kw=None, recompute=False)\n"
   ],
   "outputs": [],
   "execution_count": null
  },
  {
   "metadata": {},
   "cell_type": "code",
   "source": "",
   "outputs": [],
   "execution_count": null
  }
 ],
 "metadata": {
  "kernelspec": {
   "display_name": "tumbleweed",
   "language": "python",
   "name": "python3"
  },
  "language_info": {
   "codemirror_mode": {
    "name": "ipython",
    "version": 3
   },
   "file_extension": ".py",
   "mimetype": "text/x-python",
   "name": "python",
   "nbconvert_exporter": "python",
   "pygments_lexer": "ipython3",
   "version": "3.9.18"
  }
 },
 "nbformat": 4,
 "nbformat_minor": 2
}
