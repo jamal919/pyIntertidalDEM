{
 "cells": [
  {
   "cell_type": "code",
   "metadata": {},
   "source": [
    "# uncomment the following if you had not installed the package\n",
    "# import sys\n",
    "# sys.path.append('/home/khan/Documents/developments/pyIntertidalDEM')\n",
    "\n",
    "import numpy as np\n",
    "import matplotlib.pyplot as plt\n",
    "from pathlib import Path\n",
    "import xarray as xr\n",
    "import cartopy.crs as ccrs\n",
    "\n",
    "from pyintdem.shorelines import Shorelines"
   ],
   "outputs": [],
   "execution_count": null
  },
  {
   "metadata": {},
   "cell_type": "markdown",
   "source": "# Loading the shorelines"
  },
  {
   "cell_type": "code",
   "metadata": {},
   "source": [
    "fdir = Path('D:\\Sentinel2\\Shorelines')\n",
    "shorelines = Shorelines(fdir, pattern='*/shoreline*.csv')\n",
    "shorelines"
   ],
   "outputs": [],
   "execution_count": null
  },
  {
   "cell_type": "code",
   "metadata": {},
   "source": [
    "# If you do not want to reference, just want combined shorelines\n",
    "fpath_shoreline = Path('D:\\Sentinel2\\shorelines.csv')\n",
    "shorelines.combine(fname=fpath_shoreline, elev=False)"
   ],
   "outputs": [],
   "execution_count": null
  },
  {
   "metadata": {},
   "cell_type": "markdown",
   "source": [
    "# Generating water levels\n",
    "\n",
    "- Can be of any source, model, observation, altimetry\n",
    "- Here reconstructed from FES2014 using pycaz package (https://github.com/jamal919/pycaz)"
   ]
  },
  {
   "metadata": {},
   "cell_type": "code",
   "source": [
    "# Creating waterlevel using pycaz/utide module\n",
    "# Loading and cropping atlas\n",
    "sys.path.append('/home/khan/Documents/developments/jamal919/pycaz')\n",
    "from pycaz.tide.atlas import read_atlas\n",
    "from pycaz.tide.utide import reconstruct_waterlevel\n",
    "\n",
    "atlas_dir = '/run/media/khan/Workbench/Developments/Tide_Atlas/data/FES2014/fes2014b_elevation'\n",
    "fes2014 = read_atlas(atlas_dir, lon180=False)\n",
    "\n",
    "x = fes2014.lon[np.logical_and(fes2014.lon>= extent[0], fes2014.lon<=extent[1])]\n",
    "y = fes2014.lat[np.logical_and(fes2014.lat>= extent[2], fes2014.lat<=extent[3])]\n",
    "\n",
    "atlas_dir = '/run/media/khan/Workbench/Developments/Tide_Atlas/data/FES2014/fes2014b_elevation'\n",
    "fes2014 = read_atlas(atlas_dir, lon180=False)\n",
    "fes2014_over_image = fes2014.interp(method='linear', lon=x, lat=y)\n",
    "\n",
    "fname = '/run/media/khan/Workbench/Developments/Bengal/waterlevels.nc'\n",
    "timestamps = shorelines.timestamps(buffer='1H') # Adding additional timesteps to have buffer\n",
    "ds = reconstruct_waterlevel(fname=fname, atlas=fes2014_over_image, timestamps=timestamps)\n",
    "ds.close()"
   ],
   "outputs": [],
   "execution_count": null
  },
  {
   "metadata": {},
   "cell_type": "markdown",
   "source": "# Applying vertical height to shorelines"
  },
  {
   "metadata": {},
   "cell_type": "code",
   "source": [
    "fname = '/run/media/khan/Workbench/Developments/Bengal/waterlevels.nc'\n",
    "ds = xr.open_dataset(fname)"
   ],
   "outputs": [],
   "execution_count": null
  },
  {
   "cell_type": "code",
   "metadata": {},
   "source": [
    "# If you want to reference and then combine\n",
    "demfile = '/run/media/khan/Workbench/Developments/Bengal/dem.csv'\n",
    "shorelines.reference(ds=ds) # ds is the corresponding water level to combine\n",
    "dem = shorelines.combine(fname=demfile)"
   ],
   "outputs": [],
   "execution_count": null
  },
  {
   "cell_type": "code",
   "metadata": {},
   "source": [
    "# Shape after removing overlapping\n",
    "dem.loc[:, 'pair'] = dem.apply(lambda x: f'{x.lon}-{x.lat}', axis=1)\n",
    "dem = dem.groupby(dem.pair).min()\n",
    "dem = dem.reset_index().drop(columns=['pair'])\n",
    "dem.shape"
   ],
   "outputs": [],
   "execution_count": null
  },
  {
   "cell_type": "code",
   "metadata": {},
   "source": [
    "fig, ax = plt.subplots(figsize=(10, 4), subplot_kw={'projection':ccrs.PlateCarree()})\n",
    "sc = ax.scatter(dem.lon, dem.lat, c=dem.elev, s=0.5, cmap='viridis')\n",
    "ax.coastlines()\n",
    "plt.colorbar(sc)"
   ],
   "outputs": [],
   "execution_count": null
  }
 ],
 "metadata": {
  "kernelspec": {
   "display_name": "tumbleweed",
   "language": "python",
   "name": "python3"
  },
  "language_info": {
   "codemirror_mode": {
    "name": "ipython",
    "version": 3
   },
   "file_extension": ".py",
   "mimetype": "text/x-python",
   "name": "python",
   "nbconvert_exporter": "python",
   "pygments_lexer": "ipython3",
   "version": "3.9.18"
  }
 },
 "nbformat": 4,
 "nbformat_minor": 2
}
