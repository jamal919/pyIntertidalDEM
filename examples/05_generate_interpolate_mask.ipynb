{
 "cells": [
  {
   "cell_type": "code",
   "id": "3ed18bf5",
   "metadata": {},
   "source": [
    "import numpy as np\n",
    "from pathlib import Path\n",
    "from tqdm.autonotebook import tqdm\n",
    "from copy import deepcopy\n",
    "\n",
    "from pyintdem.models.band import Band\n",
    "from pyintdem import read_file"
   ],
   "outputs": [],
   "execution_count": null
  },
  {
   "cell_type": "code",
   "id": "822daf46",
   "metadata": {},
   "source": [
    "fdir = Path(\"../IntertidalDEM_rev2023/Shorelines\")\n",
    "tiles = list(fdir.glob(pattern=\"*/\"))\n",
    "tiles"
   ],
   "outputs": [],
   "execution_count": null
  },
  {
   "cell_type": "code",
   "id": "1c23bc23",
   "metadata": {},
   "source": [
    "def list_bw_files(tile_dir, fname=\"bw_clean_0.5_3.0.tif\"):\n",
    "    images = list(tile_dir.glob(\"*/\"))\n",
    "\n",
    "    bw_files = [image / fname for image in images]\n",
    "    bw_files = list(filter(lambda fn: fn.exists(), bw_files))\n",
    "    return bw_files\n",
    "\n",
    "def compute_frequency(bw_files):\n",
    "    for i, bw_file in enumerate(tqdm(bw_files)):\n",
    "        \n",
    "        img_band = read_file(bw_file)\n",
    "\n",
    "        if i == 0:\n",
    "            count_band = np.logical_not(np.isnan(img_band.data)).astype(int)\n",
    "            freq_band = img_band\n",
    "        else:\n",
    "            count_band = count_band + np.logical_not(np.isnan(img_band.data)).astype(int)\n",
    "            freq_band = freq_band.nan_sum(img_band)\n",
    "\n",
    "    \n",
    "    count_band = Band(data=count_band, geotransform=freq_band.geotransform, projection=freq_band.projection)\n",
    "    freq_band = freq_band / count_band.astype(float)\n",
    "\n",
    "    return freq_band, count_band\n",
    "\n",
    "def is_intertidal(freq_band, lower=0.1, upper=1):\n",
    "    intertidal = deepcopy(freq_band)\n",
    "    intertidal.data[intertidal.data>=upper] = np.nan\n",
    "    intertidal.data[intertidal.data <= lower] = np.nan\n",
    "    intertidal.data[np.logical_not(np.isnan(intertidal.data))] = 1\n",
    "    return intertidal"
   ],
   "outputs": [],
   "execution_count": null
  },
  {
   "cell_type": "code",
   "id": "0f2babe0",
   "metadata": {},
   "source": [
    "def process_tile(tile, dir_freq, dir_int_mask, lower_limit, upper_limit):\n",
    "    bw_files = list_bw_files(tile_dir=tile, fname=\"bw_clean_0.5_3.0.tif\")\n",
    "    tile_name = tile.name\n",
    "    \n",
    "    freq_band, count_band = compute_frequency(bw_files=bw_files)\n",
    "    freq_band.to_geotiff(dir_freq / f\"{tile_name}_freq.tif\")\n",
    "    count_band.to_geotiff(dir_freq / f\"{tile_name}_count.tif\")\n",
    "\n",
    "    intertidal_band = is_intertidal(freq_band, lower=lower_limit, upper=upper_limit)\n",
    "    intertidal_band.to_geotiff(dir_int_mask / f\"{tile_name}_{lower_limit}_{upper_limit}.tif\")\n",
    "\n",
    "def process_all_tiles():\n",
    "    dir_freq = Path(\"./Frequency\")\n",
    "    dir_int_mask = Path(\"./Intertidal\")\n",
    "\n",
    "    lower_limit = 0.1\n",
    "    upper_limit = 0.9\n",
    "\n",
    "    for fdir in [dir_freq, dir_int_mask]:\n",
    "        if not fdir.exists():\n",
    "            fdir.mkdir()\n",
    "\n",
    "    for tile in tiles:\n",
    "        try:\n",
    "            process_tile(\n",
    "                tile=tile, \n",
    "                dir_freq=dir_freq, \n",
    "                dir_int_mask=dir_int_mask, \n",
    "                lower_limit=lower_limit, \n",
    "                upper_limit=upper_limit)\n",
    "        except:\n",
    "            print(f\"{tile} failed\")\n",
    "\n",
    "process_all_tiles()"
   ],
   "outputs": [],
   "execution_count": null
  }
 ],
 "metadata": {
  "kernelspec": {
   "display_name": "pyintdem",
   "language": "python",
   "name": "python3"
  },
  "language_info": {
   "name": "python",
   "version": "3.11.13"
  }
 },
 "nbformat": 4,
 "nbformat_minor": 5
}
