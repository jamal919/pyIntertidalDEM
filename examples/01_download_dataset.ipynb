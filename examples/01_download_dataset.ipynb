{
 "cells": [
  {
   "cell_type": "markdown",
   "metadata": {},
   "source": [
    "# Downloading the data"
   ]
  },
  {
   "cell_type": "markdown",
   "metadata": {},
   "source": [
    "1. Create your account and put the credentials to .pyintdemsecrets\n",
    "2. List your tiles, visually, or using Coverage module\n",
    "    - Give a bbox\n",
    "    - Apply shoreline filterint\n",
    "3. Search the tiles using appropriate api\n",
    "    - search()\n",
    "    - select (head, tail)\n",
    "    - download()"
   ]
  },
  {
   "cell_type": "markdown",
   "metadata": {},
   "source": [
    "#### Format of .pyintdemsecrets\n",
    "```\n",
    "[THEIA]\n",
    "USER = your_username\n",
    "PASS = your_password\n",
    "\n",
    "[COPERNICUS]\n",
    "USER = your_username\n",
    "PASS = your_password\n",
    "```"
   ]
  },
  {
   "metadata": {},
   "cell_type": "code",
   "source": [
    "import matplotlib.pyplot as plt\n",
    "import cartopy.crs as ccrs\n",
    "\n",
    "# uncomment the following if you had not installed the package\n",
    "# import sys\n",
    "# sys.path.append('/home/khan/Documents/developments/pyIntertidalDEM')\n",
    "\n",
    "from pyintdem.sources.s2 import Coverage\n",
    "from pyintdem.sources.s2 import CopernicusAPI\n",
    "from pyintdem.sources.s2 import TheiaAPI\n",
    "from pathlib import Path"
   ],
   "outputs": [],
   "execution_count": null
  },
  {
   "metadata": {},
   "cell_type": "code",
   "source": [
    "# for example, inside legos network (deprecated)\n",
    "proxies = {\n",
    "    'http':'http://proxy.legos.obs-mip.fr:3128',\n",
    "    'https':'http://proxy.legos.obs-mip.fr:3128'\n",
    "}\n",
    "\n",
    "# or otherwise\n",
    "proxies = {} # proxies=proxies can be omitted"
   ],
   "outputs": [],
   "execution_count": null
  },
  {
   "cell_type": "markdown",
   "metadata": {},
   "source": [
    "# From Copernicus"
   ]
  },
  {
   "cell_type": "code",
   "metadata": {},
   "source": [
    "shapedir = Path('./Shapes')\n",
    "if not shapedir.exists():\n",
    "    shapedir.mkdir()\n",
    "\n",
    "bbox = [41.5, 51.5, -26, -11]\n",
    "\n",
    "copernicus_coverage = Coverage(bbox=bbox,\n",
    "                               shoreline=False,\n",
    "                               source='Copernicus',\n",
    "                               proxies=proxies)\n",
    "copernicus_coverage.filter_by_shoreline()\n",
    "\n",
    "copernicus_coverage.to_file(shapedir/'selection.geojson')\n",
    "copernicus_coverage.to_file(shapedir/'selection.shp')"
   ],
   "outputs": [],
   "execution_count": null
  },
  {
   "cell_type": "code",
   "metadata": {},
   "source": [
    "fig, ax = plt.subplots(figsize=(6, 8), subplot_kw={'projection':ccrs.PlateCarree()})\n",
    "copernicus_coverage.plot(ax=ax)"
   ],
   "outputs": [],
   "execution_count": null
  },
  {
   "cell_type": "code",
   "metadata": {},
   "source": [
    "tiles = copernicus_coverage.as_list(prefix='T')\n",
    "len(tiles)"
   ],
   "outputs": [],
   "execution_count": null
  },
  {
   "cell_type": "code",
   "metadata": {},
   "source": [
    "copernicusapi = CopernicusAPI(proxies=proxies)\n",
    "copernicusapi.search(tiles=tiles, startDate='2016-12-01', completionDate='2023-12-31', cloudCover=3)\n",
    "copernicusapi.save('results_copernicus_2016_2023.geojson')"
   ],
   "outputs": [],
   "execution_count": null
  },
  {
   "cell_type": "code",
   "metadata": {},
   "source": [
    "import json\n",
    "with open('results_copernicus_2016_2023.geojson', 'r') as f:\n",
    "    data = json.load(f)"
   ],
   "outputs": [],
   "execution_count": null
  },
  {
   "cell_type": "code",
   "metadata": {},
   "source": [
    "copernicusapi.plot()"
   ],
   "outputs": [],
   "execution_count": null
  },
  {
   "cell_type": "code",
   "metadata": {},
   "source": [
    "datadir = Path('/run/media/khan/Madagascar/Sentinel2/Data')\n",
    "copernicusapi.tail(10).download(savedir=datadir) # Downloading the last 10 images"
   ],
   "outputs": [],
   "execution_count": null
  },
  {
   "cell_type": "markdown",
   "metadata": {},
   "source": [
    "# From Theia"
   ]
  },
  {
   "cell_type": "code",
   "metadata": {},
   "source": [
    "shapedir = Path('/run/media/khan/Madagascar/Sentinel2/Shapes')\n",
    "datadir = Path('/run/media/khan/Madagascar/Sentinel2/Data')\n",
    "if not shapedir.exists():\n",
    "    shapedir.mkdir()\n",
    "\n",
    "bbox = [41.5, 51.5, -26, -11]\n",
    "\n",
    "theia_coverage = Coverage(bbox=bbox, shoreline=False, source='Theia', proxies=proxies)\n",
    "theia_coverage.plot()"
   ],
   "outputs": [],
   "execution_count": null
  },
  {
   "cell_type": "code",
   "metadata": {},
   "source": [
    "theia_coverage.filter_by_shoreline()\n",
    "theia_coverage.plot()"
   ],
   "outputs": [],
   "execution_count": null
  },
  {
   "cell_type": "code",
   "metadata": {},
   "source": [
    "tiles = theia_coverage.as_list(prefix='T')\n",
    "len(tiles)"
   ],
   "outputs": [],
   "execution_count": null
  },
  {
   "cell_type": "code",
   "metadata": {},
   "source": [
    "theiaapi = TheiaAPI(proxies=proxies)\n",
    "theiaapi.search(tiles=tiles, startDate='2016-01-01', completionDate='2023-12-31', cloudCover=3)"
   ],
   "outputs": [],
   "execution_count": null
  },
  {
   "cell_type": "code",
   "metadata": {},
   "source": [
    "fig, ax = plt.subplots(figsize=(6, 10), subplot_kw={'projection':ccrs.PlateCarree()})\n",
    "theiaapi.plot(ax=ax)\n",
    "plt.savefig('Theia_data_availability_2016_2023.png', dpi=150, bbox_inches='tight')"
   ],
   "outputs": [],
   "execution_count": null
  },
  {
   "cell_type": "code",
   "metadata": {},
   "source": "theiaapi.head(3).download(savedir=datadir) # Downloading first 3 files",
   "outputs": [],
   "execution_count": null
  }
 ],
 "metadata": {
  "kernelspec": {
   "display_name": "pyintdem",
   "language": "python",
   "name": "python3"
  },
  "language_info": {
   "codemirror_mode": {
    "name": "ipython",
    "version": 3
   },
   "file_extension": ".py",
   "mimetype": "text/x-python",
   "name": "python",
   "nbconvert_exporter": "python",
   "pygments_lexer": "ipython3",
   "version": "3.12.3"
  }
 },
 "nbformat": 4,
 "nbformat_minor": 2
}
