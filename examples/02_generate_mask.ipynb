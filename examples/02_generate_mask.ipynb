{
 "cells": [
  {
   "cell_type": "code",
   "metadata": {
    "ExecuteTime": {
     "end_time": "2024-06-11T08:40:12.455374Z",
     "start_time": "2024-06-11T08:40:09.950774Z"
    }
   },
   "source": [
    "# uncomment the following if you had not installed the package\n",
    "# import sys\n",
    "# sys.path.append('/home/khan/Documents/developments/pyIntertidalDEM')\n",
    "\n",
    "from pyintdem.data import Database, DataFile\n",
    "from pyintdem.util import create_mask\n",
    "from pathlib import Path\n",
    "import rioxarray\n",
    "from tqdm import tqdm\n"
   ],
   "outputs": [],
   "execution_count": 1
  },
  {
   "metadata": {},
   "cell_type": "markdown",
   "source": "# Example for downloaded dataset"
  },
  {
   "cell_type": "code",
   "execution_count": 14,
   "metadata": {},
   "outputs": [],
   "source": [
    "datadir = Path('/run/media/khan/Workbench/Developments/Bengal/Data')\n",
    "database = Database(datadir)"
   ]
  },
  {
   "cell_type": "code",
   "execution_count": 15,
   "metadata": {},
   "outputs": [
    {
     "data": {
      "text/plain": [
       "{'T46QBK': [{'filetype': 'theia',\n",
       "   'fpath': '/run/media/khan/Workbench/Developments/Bengal/Data/T46QBK/SENTINEL2A_20160118-044355-092_L2A_T46QBK_D_V1-8.zip',\n",
       "   'mission': 'SENTINEL2A',\n",
       "   'product': 'L2A',\n",
       "   'version': 'V1-8',\n",
       "   'time': Timestamp('2016-01-18 04:43:55.092000'),\n",
       "   'tile': 'T46QBK',\n",
       "   'bands': {'B11': '/vsizip//run/media/khan/Workbench/Developments/Bengal/Data/T46QBK/SENTINEL2A_20160118-044355-092_L2A_T46QBK_D_V1-8.zip/SENTINEL2A_20160118-044355-092_L2A_T46QBK_D_V1-8/SENTINEL2A_20160118-044355-092_L2A_T46QBK_D_V1-8_FRE_B11.tif',\n",
       "    'B4': '/vsizip//run/media/khan/Workbench/Developments/Bengal/Data/T46QBK/SENTINEL2A_20160118-044355-092_L2A_T46QBK_D_V1-8.zip/SENTINEL2A_20160118-044355-092_L2A_T46QBK_D_V1-8/SENTINEL2A_20160118-044355-092_L2A_T46QBK_D_V1-8_FRE_B4.tif',\n",
       "    'B6': '/vsizip//run/media/khan/Workbench/Developments/Bengal/Data/T46QBK/SENTINEL2A_20160118-044355-092_L2A_T46QBK_D_V1-8.zip/SENTINEL2A_20160118-044355-092_L2A_T46QBK_D_V1-8/SENTINEL2A_20160118-044355-092_L2A_T46QBK_D_V1-8_FRE_B6.tif',\n",
       "    'B8': '/vsizip//run/media/khan/Workbench/Developments/Bengal/Data/T46QBK/SENTINEL2A_20160118-044355-092_L2A_T46QBK_D_V1-8.zip/SENTINEL2A_20160118-044355-092_L2A_T46QBK_D_V1-8/SENTINEL2A_20160118-044355-092_L2A_T46QBK_D_V1-8_FRE_B8.tif',\n",
       "    'B12': '/vsizip//run/media/khan/Workbench/Developments/Bengal/Data/T46QBK/SENTINEL2A_20160118-044355-092_L2A_T46QBK_D_V1-8.zip/SENTINEL2A_20160118-044355-092_L2A_T46QBK_D_V1-8/SENTINEL2A_20160118-044355-092_L2A_T46QBK_D_V1-8_FRE_B12.tif',\n",
       "    'B3': '/vsizip//run/media/khan/Workbench/Developments/Bengal/Data/T46QBK/SENTINEL2A_20160118-044355-092_L2A_T46QBK_D_V1-8.zip/SENTINEL2A_20160118-044355-092_L2A_T46QBK_D_V1-8/SENTINEL2A_20160118-044355-092_L2A_T46QBK_D_V1-8_FRE_B3.tif',\n",
       "    'B8A': '/vsizip//run/media/khan/Workbench/Developments/Bengal/Data/T46QBK/SENTINEL2A_20160118-044355-092_L2A_T46QBK_D_V1-8.zip/SENTINEL2A_20160118-044355-092_L2A_T46QBK_D_V1-8/SENTINEL2A_20160118-044355-092_L2A_T46QBK_D_V1-8_FRE_B8A.tif',\n",
       "    'B2': '/vsizip//run/media/khan/Workbench/Developments/Bengal/Data/T46QBK/SENTINEL2A_20160118-044355-092_L2A_T46QBK_D_V1-8.zip/SENTINEL2A_20160118-044355-092_L2A_T46QBK_D_V1-8/SENTINEL2A_20160118-044355-092_L2A_T46QBK_D_V1-8_FRE_B2.tif',\n",
       "    'B5': '/vsizip//run/media/khan/Workbench/Developments/Bengal/Data/T46QBK/SENTINEL2A_20160118-044355-092_L2A_T46QBK_D_V1-8.zip/SENTINEL2A_20160118-044355-092_L2A_T46QBK_D_V1-8/SENTINEL2A_20160118-044355-092_L2A_T46QBK_D_V1-8_FRE_B5.tif',\n",
       "    'B7': '/vsizip//run/media/khan/Workbench/Developments/Bengal/Data/T46QBK/SENTINEL2A_20160118-044355-092_L2A_T46QBK_D_V1-8.zip/SENTINEL2A_20160118-044355-092_L2A_T46QBK_D_V1-8/SENTINEL2A_20160118-044355-092_L2A_T46QBK_D_V1-8_FRE_B7.tif'}},\n",
       "  {'filetype': 'theia',\n",
       "   'fpath': '/run/media/khan/Workbench/Developments/Bengal/Data/T46QBK/SENTINEL2A_20161113-043537-729_L2A_T46QBK_D_V1-8.zip',\n",
       "   'mission': 'SENTINEL2A',\n",
       "   'product': 'L2A',\n",
       "   'version': 'V1-8',\n",
       "   'time': Timestamp('2016-11-13 04:35:37.729000'),\n",
       "   'tile': 'T46QBK',\n",
       "   'bands': {'B6': '/vsizip//run/media/khan/Workbench/Developments/Bengal/Data/T46QBK/SENTINEL2A_20161113-043537-729_L2A_T46QBK_D_V1-8.zip/SENTINEL2A_20161113-043537-729_L2A_T46QBK_D_V1-8/SENTINEL2A_20161113-043537-729_L2A_T46QBK_D_V1-8_FRE_B6.tif',\n",
       "    'B5': '/vsizip//run/media/khan/Workbench/Developments/Bengal/Data/T46QBK/SENTINEL2A_20161113-043537-729_L2A_T46QBK_D_V1-8.zip/SENTINEL2A_20161113-043537-729_L2A_T46QBK_D_V1-8/SENTINEL2A_20161113-043537-729_L2A_T46QBK_D_V1-8_FRE_B5.tif',\n",
       "    'B7': '/vsizip//run/media/khan/Workbench/Developments/Bengal/Data/T46QBK/SENTINEL2A_20161113-043537-729_L2A_T46QBK_D_V1-8.zip/SENTINEL2A_20161113-043537-729_L2A_T46QBK_D_V1-8/SENTINEL2A_20161113-043537-729_L2A_T46QBK_D_V1-8_FRE_B7.tif',\n",
       "    'B4': '/vsizip//run/media/khan/Workbench/Developments/Bengal/Data/T46QBK/SENTINEL2A_20161113-043537-729_L2A_T46QBK_D_V1-8.zip/SENTINEL2A_20161113-043537-729_L2A_T46QBK_D_V1-8/SENTINEL2A_20161113-043537-729_L2A_T46QBK_D_V1-8_FRE_B4.tif',\n",
       "    'B2': '/vsizip//run/media/khan/Workbench/Developments/Bengal/Data/T46QBK/SENTINEL2A_20161113-043537-729_L2A_T46QBK_D_V1-8.zip/SENTINEL2A_20161113-043537-729_L2A_T46QBK_D_V1-8/SENTINEL2A_20161113-043537-729_L2A_T46QBK_D_V1-8_FRE_B2.tif',\n",
       "    'B8': '/vsizip//run/media/khan/Workbench/Developments/Bengal/Data/T46QBK/SENTINEL2A_20161113-043537-729_L2A_T46QBK_D_V1-8.zip/SENTINEL2A_20161113-043537-729_L2A_T46QBK_D_V1-8/SENTINEL2A_20161113-043537-729_L2A_T46QBK_D_V1-8_FRE_B8.tif',\n",
       "    'B8A': '/vsizip//run/media/khan/Workbench/Developments/Bengal/Data/T46QBK/SENTINEL2A_20161113-043537-729_L2A_T46QBK_D_V1-8.zip/SENTINEL2A_20161113-043537-729_L2A_T46QBK_D_V1-8/SENTINEL2A_20161113-043537-729_L2A_T46QBK_D_V1-8_FRE_B8A.tif',\n",
       "    'B11': '/vsizip//run/media/khan/Workbench/Developments/Bengal/Data/T46QBK/SENTINEL2A_20161113-043537-729_L2A_T46QBK_D_V1-8.zip/SENTINEL2A_20161113-043537-729_L2A_T46QBK_D_V1-8/SENTINEL2A_20161113-043537-729_L2A_T46QBK_D_V1-8_FRE_B11.tif',\n",
       "    'B3': '/vsizip//run/media/khan/Workbench/Developments/Bengal/Data/T46QBK/SENTINEL2A_20161113-043537-729_L2A_T46QBK_D_V1-8.zip/SENTINEL2A_20161113-043537-729_L2A_T46QBK_D_V1-8/SENTINEL2A_20161113-043537-729_L2A_T46QBK_D_V1-8_FRE_B3.tif',\n",
       "    'B12': '/vsizip//run/media/khan/Workbench/Developments/Bengal/Data/T46QBK/SENTINEL2A_20161113-043537-729_L2A_T46QBK_D_V1-8.zip/SENTINEL2A_20161113-043537-729_L2A_T46QBK_D_V1-8/SENTINEL2A_20161113-043537-729_L2A_T46QBK_D_V1-8_FRE_B12.tif'}},\n",
       "  {'filetype': 'theia',\n",
       "   'fpath': '/run/media/khan/Workbench/Developments/Bengal/Data/T46QBK/SENTINEL2A_20161213-043722-375_L2A_T46QBK_D_V1-4.zip',\n",
       "   'mission': 'SENTINEL2A',\n",
       "   'product': 'L2A',\n",
       "   'version': 'V1-4',\n",
       "   'time': Timestamp('2016-12-13 04:37:22.375000'),\n",
       "   'tile': 'T46QBK',\n",
       "   'bands': {'B11': '/vsizip//run/media/khan/Workbench/Developments/Bengal/Data/T46QBK/SENTINEL2A_20161213-043722-375_L2A_T46QBK_D_V1-4.zip/SENTINEL2A_20161213-043722-375_L2A_T46QBK_D_V1-4/SENTINEL2A_20161213-043722-375_L2A_T46QBK_D_V1-4_FRE_B11.tif',\n",
       "    'B4': '/vsizip//run/media/khan/Workbench/Developments/Bengal/Data/T46QBK/SENTINEL2A_20161213-043722-375_L2A_T46QBK_D_V1-4.zip/SENTINEL2A_20161213-043722-375_L2A_T46QBK_D_V1-4/SENTINEL2A_20161213-043722-375_L2A_T46QBK_D_V1-4_FRE_B4.tif',\n",
       "    'B12': '/vsizip//run/media/khan/Workbench/Developments/Bengal/Data/T46QBK/SENTINEL2A_20161213-043722-375_L2A_T46QBK_D_V1-4.zip/SENTINEL2A_20161213-043722-375_L2A_T46QBK_D_V1-4/SENTINEL2A_20161213-043722-375_L2A_T46QBK_D_V1-4_FRE_B12.tif',\n",
       "    'B7': '/vsizip//run/media/khan/Workbench/Developments/Bengal/Data/T46QBK/SENTINEL2A_20161213-043722-375_L2A_T46QBK_D_V1-4.zip/SENTINEL2A_20161213-043722-375_L2A_T46QBK_D_V1-4/SENTINEL2A_20161213-043722-375_L2A_T46QBK_D_V1-4_FRE_B7.tif',\n",
       "    'B8A': '/vsizip//run/media/khan/Workbench/Developments/Bengal/Data/T46QBK/SENTINEL2A_20161213-043722-375_L2A_T46QBK_D_V1-4.zip/SENTINEL2A_20161213-043722-375_L2A_T46QBK_D_V1-4/SENTINEL2A_20161213-043722-375_L2A_T46QBK_D_V1-4_FRE_B8A.tif',\n",
       "    'B2': '/vsizip//run/media/khan/Workbench/Developments/Bengal/Data/T46QBK/SENTINEL2A_20161213-043722-375_L2A_T46QBK_D_V1-4.zip/SENTINEL2A_20161213-043722-375_L2A_T46QBK_D_V1-4/SENTINEL2A_20161213-043722-375_L2A_T46QBK_D_V1-4_FRE_B2.tif',\n",
       "    'B5': '/vsizip//run/media/khan/Workbench/Developments/Bengal/Data/T46QBK/SENTINEL2A_20161213-043722-375_L2A_T46QBK_D_V1-4.zip/SENTINEL2A_20161213-043722-375_L2A_T46QBK_D_V1-4/SENTINEL2A_20161213-043722-375_L2A_T46QBK_D_V1-4_FRE_B5.tif',\n",
       "    'B8': '/vsizip//run/media/khan/Workbench/Developments/Bengal/Data/T46QBK/SENTINEL2A_20161213-043722-375_L2A_T46QBK_D_V1-4.zip/SENTINEL2A_20161213-043722-375_L2A_T46QBK_D_V1-4/SENTINEL2A_20161213-043722-375_L2A_T46QBK_D_V1-4_FRE_B8.tif',\n",
       "    'B3': '/vsizip//run/media/khan/Workbench/Developments/Bengal/Data/T46QBK/SENTINEL2A_20161213-043722-375_L2A_T46QBK_D_V1-4.zip/SENTINEL2A_20161213-043722-375_L2A_T46QBK_D_V1-4/SENTINEL2A_20161213-043722-375_L2A_T46QBK_D_V1-4_FRE_B3.tif',\n",
       "    'B6': '/vsizip//run/media/khan/Workbench/Developments/Bengal/Data/T46QBK/SENTINEL2A_20161213-043722-375_L2A_T46QBK_D_V1-4.zip/SENTINEL2A_20161213-043722-375_L2A_T46QBK_D_V1-4/SENTINEL2A_20161213-043722-375_L2A_T46QBK_D_V1-4_FRE_B6.tif'}}],\n",
       " 'T46QCK': [{'filetype': 'theia',\n",
       "   'fpath': '/run/media/khan/Workbench/Developments/Bengal/Data/T46QCK/SENTINEL2A_20160118-044355-092_L2A_T46QCK_D_V1-8.zip',\n",
       "   'mission': 'SENTINEL2A',\n",
       "   'product': 'L2A',\n",
       "   'version': 'V1-8',\n",
       "   'time': Timestamp('2016-01-18 04:43:55.092000'),\n",
       "   'tile': 'T46QCK',\n",
       "   'bands': {'B3': '/vsizip//run/media/khan/Workbench/Developments/Bengal/Data/T46QCK/SENTINEL2A_20160118-044355-092_L2A_T46QCK_D_V1-8.zip/SENTINEL2A_20160118-044355-092_L2A_T46QCK_D_V1-8/SENTINEL2A_20160118-044355-092_L2A_T46QCK_D_V1-8_FRE_B3.tif',\n",
       "    'B8A': '/vsizip//run/media/khan/Workbench/Developments/Bengal/Data/T46QCK/SENTINEL2A_20160118-044355-092_L2A_T46QCK_D_V1-8.zip/SENTINEL2A_20160118-044355-092_L2A_T46QCK_D_V1-8/SENTINEL2A_20160118-044355-092_L2A_T46QCK_D_V1-8_FRE_B8A.tif',\n",
       "    'B5': '/vsizip//run/media/khan/Workbench/Developments/Bengal/Data/T46QCK/SENTINEL2A_20160118-044355-092_L2A_T46QCK_D_V1-8.zip/SENTINEL2A_20160118-044355-092_L2A_T46QCK_D_V1-8/SENTINEL2A_20160118-044355-092_L2A_T46QCK_D_V1-8_FRE_B5.tif',\n",
       "    'B7': '/vsizip//run/media/khan/Workbench/Developments/Bengal/Data/T46QCK/SENTINEL2A_20160118-044355-092_L2A_T46QCK_D_V1-8.zip/SENTINEL2A_20160118-044355-092_L2A_T46QCK_D_V1-8/SENTINEL2A_20160118-044355-092_L2A_T46QCK_D_V1-8_FRE_B7.tif',\n",
       "    'B8': '/vsizip//run/media/khan/Workbench/Developments/Bengal/Data/T46QCK/SENTINEL2A_20160118-044355-092_L2A_T46QCK_D_V1-8.zip/SENTINEL2A_20160118-044355-092_L2A_T46QCK_D_V1-8/SENTINEL2A_20160118-044355-092_L2A_T46QCK_D_V1-8_FRE_B8.tif',\n",
       "    'B4': '/vsizip//run/media/khan/Workbench/Developments/Bengal/Data/T46QCK/SENTINEL2A_20160118-044355-092_L2A_T46QCK_D_V1-8.zip/SENTINEL2A_20160118-044355-092_L2A_T46QCK_D_V1-8/SENTINEL2A_20160118-044355-092_L2A_T46QCK_D_V1-8_FRE_B4.tif',\n",
       "    'B6': '/vsizip//run/media/khan/Workbench/Developments/Bengal/Data/T46QCK/SENTINEL2A_20160118-044355-092_L2A_T46QCK_D_V1-8.zip/SENTINEL2A_20160118-044355-092_L2A_T46QCK_D_V1-8/SENTINEL2A_20160118-044355-092_L2A_T46QCK_D_V1-8_FRE_B6.tif',\n",
       "    'B11': '/vsizip//run/media/khan/Workbench/Developments/Bengal/Data/T46QCK/SENTINEL2A_20160118-044355-092_L2A_T46QCK_D_V1-8.zip/SENTINEL2A_20160118-044355-092_L2A_T46QCK_D_V1-8/SENTINEL2A_20160118-044355-092_L2A_T46QCK_D_V1-8_FRE_B11.tif',\n",
       "    'B12': '/vsizip//run/media/khan/Workbench/Developments/Bengal/Data/T46QCK/SENTINEL2A_20160118-044355-092_L2A_T46QCK_D_V1-8.zip/SENTINEL2A_20160118-044355-092_L2A_T46QCK_D_V1-8/SENTINEL2A_20160118-044355-092_L2A_T46QCK_D_V1-8_FRE_B12.tif',\n",
       "    'B2': '/vsizip//run/media/khan/Workbench/Developments/Bengal/Data/T46QCK/SENTINEL2A_20160118-044355-092_L2A_T46QCK_D_V1-8.zip/SENTINEL2A_20160118-044355-092_L2A_T46QCK_D_V1-8/SENTINEL2A_20160118-044355-092_L2A_T46QCK_D_V1-8_FRE_B2.tif'}},\n",
       "  {'filetype': 'theia',\n",
       "   'fpath': '/run/media/khan/Workbench/Developments/Bengal/Data/T46QCK/SENTINEL2A_20161113-043537-729_L2A_T46QCK_D_V1-8.zip',\n",
       "   'mission': 'SENTINEL2A',\n",
       "   'product': 'L2A',\n",
       "   'version': 'V1-8',\n",
       "   'time': Timestamp('2016-11-13 04:35:37.729000'),\n",
       "   'tile': 'T46QCK',\n",
       "   'bands': {'B7': '/vsizip//run/media/khan/Workbench/Developments/Bengal/Data/T46QCK/SENTINEL2A_20161113-043537-729_L2A_T46QCK_D_V1-8.zip/SENTINEL2A_20161113-043537-729_L2A_T46QCK_D_V1-8/SENTINEL2A_20161113-043537-729_L2A_T46QCK_D_V1-8_FRE_B7.tif',\n",
       "    'B2': '/vsizip//run/media/khan/Workbench/Developments/Bengal/Data/T46QCK/SENTINEL2A_20161113-043537-729_L2A_T46QCK_D_V1-8.zip/SENTINEL2A_20161113-043537-729_L2A_T46QCK_D_V1-8/SENTINEL2A_20161113-043537-729_L2A_T46QCK_D_V1-8_FRE_B2.tif',\n",
       "    'B8A': '/vsizip//run/media/khan/Workbench/Developments/Bengal/Data/T46QCK/SENTINEL2A_20161113-043537-729_L2A_T46QCK_D_V1-8.zip/SENTINEL2A_20161113-043537-729_L2A_T46QCK_D_V1-8/SENTINEL2A_20161113-043537-729_L2A_T46QCK_D_V1-8_FRE_B8A.tif',\n",
       "    'B11': '/vsizip//run/media/khan/Workbench/Developments/Bengal/Data/T46QCK/SENTINEL2A_20161113-043537-729_L2A_T46QCK_D_V1-8.zip/SENTINEL2A_20161113-043537-729_L2A_T46QCK_D_V1-8/SENTINEL2A_20161113-043537-729_L2A_T46QCK_D_V1-8_FRE_B11.tif',\n",
       "    'B4': '/vsizip//run/media/khan/Workbench/Developments/Bengal/Data/T46QCK/SENTINEL2A_20161113-043537-729_L2A_T46QCK_D_V1-8.zip/SENTINEL2A_20161113-043537-729_L2A_T46QCK_D_V1-8/SENTINEL2A_20161113-043537-729_L2A_T46QCK_D_V1-8_FRE_B4.tif',\n",
       "    'B6': '/vsizip//run/media/khan/Workbench/Developments/Bengal/Data/T46QCK/SENTINEL2A_20161113-043537-729_L2A_T46QCK_D_V1-8.zip/SENTINEL2A_20161113-043537-729_L2A_T46QCK_D_V1-8/SENTINEL2A_20161113-043537-729_L2A_T46QCK_D_V1-8_FRE_B6.tif',\n",
       "    'B8': '/vsizip//run/media/khan/Workbench/Developments/Bengal/Data/T46QCK/SENTINEL2A_20161113-043537-729_L2A_T46QCK_D_V1-8.zip/SENTINEL2A_20161113-043537-729_L2A_T46QCK_D_V1-8/SENTINEL2A_20161113-043537-729_L2A_T46QCK_D_V1-8_FRE_B8.tif',\n",
       "    'B3': '/vsizip//run/media/khan/Workbench/Developments/Bengal/Data/T46QCK/SENTINEL2A_20161113-043537-729_L2A_T46QCK_D_V1-8.zip/SENTINEL2A_20161113-043537-729_L2A_T46QCK_D_V1-8/SENTINEL2A_20161113-043537-729_L2A_T46QCK_D_V1-8_FRE_B3.tif',\n",
       "    'B12': '/vsizip//run/media/khan/Workbench/Developments/Bengal/Data/T46QCK/SENTINEL2A_20161113-043537-729_L2A_T46QCK_D_V1-8.zip/SENTINEL2A_20161113-043537-729_L2A_T46QCK_D_V1-8/SENTINEL2A_20161113-043537-729_L2A_T46QCK_D_V1-8_FRE_B12.tif',\n",
       "    'B5': '/vsizip//run/media/khan/Workbench/Developments/Bengal/Data/T46QCK/SENTINEL2A_20161113-043537-729_L2A_T46QCK_D_V1-8.zip/SENTINEL2A_20161113-043537-729_L2A_T46QCK_D_V1-8/SENTINEL2A_20161113-043537-729_L2A_T46QCK_D_V1-8_FRE_B5.tif'}},\n",
       "  {'filetype': 'theia',\n",
       "   'fpath': '/run/media/khan/Workbench/Developments/Bengal/Data/T46QCK/SENTINEL2A_20161210-042210-109_L2A_T46QCK_D_V1-4.zip',\n",
       "   'mission': 'SENTINEL2A',\n",
       "   'product': 'L2A',\n",
       "   'version': 'V1-4',\n",
       "   'time': Timestamp('2016-12-10 04:22:10.109000'),\n",
       "   'tile': 'T46QCK',\n",
       "   'bands': {'B7': '/vsizip//run/media/khan/Workbench/Developments/Bengal/Data/T46QCK/SENTINEL2A_20161210-042210-109_L2A_T46QCK_D_V1-4.zip/SENTINEL2A_20161210-042210-109_L2A_T46QCK_D_V1-4/SENTINEL2A_20161210-042210-109_L2A_T46QCK_D_V1-4_FRE_B7.tif',\n",
       "    'B11': '/vsizip//run/media/khan/Workbench/Developments/Bengal/Data/T46QCK/SENTINEL2A_20161210-042210-109_L2A_T46QCK_D_V1-4.zip/SENTINEL2A_20161210-042210-109_L2A_T46QCK_D_V1-4/SENTINEL2A_20161210-042210-109_L2A_T46QCK_D_V1-4_FRE_B11.tif',\n",
       "    'B4': '/vsizip//run/media/khan/Workbench/Developments/Bengal/Data/T46QCK/SENTINEL2A_20161210-042210-109_L2A_T46QCK_D_V1-4.zip/SENTINEL2A_20161210-042210-109_L2A_T46QCK_D_V1-4/SENTINEL2A_20161210-042210-109_L2A_T46QCK_D_V1-4_FRE_B4.tif',\n",
       "    'B8': '/vsizip//run/media/khan/Workbench/Developments/Bengal/Data/T46QCK/SENTINEL2A_20161210-042210-109_L2A_T46QCK_D_V1-4.zip/SENTINEL2A_20161210-042210-109_L2A_T46QCK_D_V1-4/SENTINEL2A_20161210-042210-109_L2A_T46QCK_D_V1-4_FRE_B8.tif',\n",
       "    'B8A': '/vsizip//run/media/khan/Workbench/Developments/Bengal/Data/T46QCK/SENTINEL2A_20161210-042210-109_L2A_T46QCK_D_V1-4.zip/SENTINEL2A_20161210-042210-109_L2A_T46QCK_D_V1-4/SENTINEL2A_20161210-042210-109_L2A_T46QCK_D_V1-4_FRE_B8A.tif',\n",
       "    'B12': '/vsizip//run/media/khan/Workbench/Developments/Bengal/Data/T46QCK/SENTINEL2A_20161210-042210-109_L2A_T46QCK_D_V1-4.zip/SENTINEL2A_20161210-042210-109_L2A_T46QCK_D_V1-4/SENTINEL2A_20161210-042210-109_L2A_T46QCK_D_V1-4_FRE_B12.tif',\n",
       "    'B3': '/vsizip//run/media/khan/Workbench/Developments/Bengal/Data/T46QCK/SENTINEL2A_20161210-042210-109_L2A_T46QCK_D_V1-4.zip/SENTINEL2A_20161210-042210-109_L2A_T46QCK_D_V1-4/SENTINEL2A_20161210-042210-109_L2A_T46QCK_D_V1-4_FRE_B3.tif',\n",
       "    'B6': '/vsizip//run/media/khan/Workbench/Developments/Bengal/Data/T46QCK/SENTINEL2A_20161210-042210-109_L2A_T46QCK_D_V1-4.zip/SENTINEL2A_20161210-042210-109_L2A_T46QCK_D_V1-4/SENTINEL2A_20161210-042210-109_L2A_T46QCK_D_V1-4_FRE_B6.tif',\n",
       "    'B2': '/vsizip//run/media/khan/Workbench/Developments/Bengal/Data/T46QCK/SENTINEL2A_20161210-042210-109_L2A_T46QCK_D_V1-4.zip/SENTINEL2A_20161210-042210-109_L2A_T46QCK_D_V1-4/SENTINEL2A_20161210-042210-109_L2A_T46QCK_D_V1-4_FRE_B2.tif',\n",
       "    'B5': '/vsizip//run/media/khan/Workbench/Developments/Bengal/Data/T46QCK/SENTINEL2A_20161210-042210-109_L2A_T46QCK_D_V1-4.zip/SENTINEL2A_20161210-042210-109_L2A_T46QCK_D_V1-4/SENTINEL2A_20161210-042210-109_L2A_T46QCK_D_V1-4_FRE_B5.tif'}}]}"
      ]
     },
     "execution_count": 15,
     "metadata": {},
     "output_type": "execute_result"
    }
   ],
   "source": [
    "database"
   ]
  },
  {
   "cell_type": "code",
   "execution_count": 17,
   "metadata": {},
   "outputs": [],
   "source": [
    "maskdir = Path('/run/media/khan/Workbench/Developments/Bengal/Masks')\n",
    "create_mask(database=database, maskdir=maskdir, nmask=0.5, ext='tif', band='B11')"
   ]
  },
  {
   "cell_type": "code",
   "execution_count": 22,
   "metadata": {},
   "outputs": [
    {
     "data": {
      "text/plain": [
       "['T46QBK', 'T46QCK']"
      ]
     },
     "execution_count": 22,
     "metadata": {},
     "output_type": "execute_result"
    }
   ],
   "source": [
    "database.tiles"
   ]
  },
  {
   "metadata": {},
   "cell_type": "markdown",
   "source": "# Example for Pekel et al. dataset"
  },
  {
   "metadata": {},
   "cell_type": "code",
   "outputs": [
    {
     "name": "stderr",
     "output_type": "stream",
     "text": [
      "C:\\Users\\khan\\miniconda3\\envs\\pyintdem\\Lib\\site-packages\\rasterio\\__init__.py:304: NotGeoreferencedWarning: Dataset has no geotransform, gcps, or rpcs. The identity matrix will be returned.\n",
      "  dataset = DatasetReader(path, driver=driver, sharing=sharing, **kwargs)\n"
     ]
    }
   ],
   "execution_count": 2,
   "source": [
    "rootdir = Path('F:/Sentinel2')\n",
    "datadir = rootdir / 'Data'\n",
    "database = Database(datadir)"
   ]
  },
  {
   "metadata": {},
   "cell_type": "code",
   "outputs": [],
   "execution_count": 48,
   "source": [
    "# Merging Pekel dataset\n",
    "# Run once only\n",
    "from rioxarray.merge import merge_arrays\n",
    "\n",
    "pekel_dir = Path('F:/Sentinel2/Auxiliary/Pekel_etal_2016/')\n",
    "\n",
    "fnames = [\n",
    "    'occurrence_40E_10Sv1_4_2021.tif',\n",
    "    'occurrence_40E_20Sv1_4_2021.tif',\n",
    "    'occurrence_50E_10Sv1_4_2021.tif',\n",
    "    'occurrence_50E_20Sv1_4_2021.tif'\n",
    "]\n",
    "\n",
    "datasets = [rio.open_rasterio(pekel_dir / fname) for fname in fnames]\n",
    "merged_ds = merge_arrays(datasets)\n",
    "merged_ds.rio.to_raster('F:/Sentinel2/Auxiliary/Pekel_etal_2016/occurrence_madagascar.tif')"
   ]
  },
  {
   "metadata": {},
   "cell_type": "code",
   "outputs": [],
   "execution_count": 57,
   "source": "ds_mask_global = rioxarray.open_rasterio('F:/Sentinel2/Auxiliary/Pekel_etal_2016/occurrence_madagascar.tif')"
  },
  {
   "metadata": {},
   "cell_type": "code",
   "outputs": [
    {
     "name": "stderr",
     "output_type": "stream",
     "text": [
      "100%|██████████| 60/60 [07:29<00:00,  7.49s/it]\n"
     ]
    }
   ],
   "execution_count": 62,
   "source": [
    "maskdir = rootdir / 'Masks_Pekel'\n",
    "if not maskdir.exists():\n",
    "    maskdir.mkdir()\n",
    "\n",
    "for tile in tqdm(database):\n",
    "    ds_band = rioxarray.open_rasterio(database[tile][0]['bands']['B11'])\n",
    "    ds_mask_local = ds_mask_global.rio.reproject_match(ds_band)\n",
    "\n",
    "    # Mask land 0, water 1\n",
    "    ds_mask_local = (ds_mask_local >= 25).astype(int)\n",
    "    ds_mask_local.rio.to_raster(maskdir / f'{tile}.tif')"
   ]
  },
  {
   "metadata": {},
   "cell_type": "code",
   "outputs": [
    {
     "name": "stderr",
     "output_type": "stream",
     "text": [
      "C:\\Users\\khan\\Documents\\Developments\\pyIntertidalDEM\\pyintdem\\core.py:524: RuntimeWarning: invalid value encountered in divide\n",
      "  data=self.data/other.data,\n"
     ]
    }
   ],
   "execution_count": 11,
   "source": [
    "database_test = {key: database[key] for key in  ['T39KTV', 'T38KMG', 'T39KTS']}\n",
    "maskdir = rootdir / 'Masks_Sentinel2_Updated'\n",
    "if not maskdir.exists():\n",
    "    maskdir.mkdir()\n",
    "create_mask(database=database_test, maskdir=maskdir, nmask=0.75, ext='tif', band='B11', normalize=True)"
   ]
  }
 ],
 "metadata": {
  "kernelspec": {
   "display_name": "tumbleweed",
   "language": "python",
   "name": "python3"
  },
  "language_info": {
   "codemirror_mode": {
    "name": "ipython",
    "version": 3
   },
   "file_extension": ".py",
   "mimetype": "text/x-python",
   "name": "python",
   "nbconvert_exporter": "python",
   "pygments_lexer": "ipython3",
   "version": "3.9.18"
  }
 },
 "nbformat": 4,
 "nbformat_minor": 2
}
