{
 "cells": [
  {
   "cell_type": "code",
   "metadata": {},
   "source": [
    "# uncomment the following if you had not installed the package\n",
    "# import sys\n",
    "# sys.path.append('/home/khan/Documents/developments/pyIntertidalDEM')\n",
    "\n",
    "from pyintdem.data import Database, DataFile\n",
    "from pyintdem.workflows.khan2019 import create_mask\n",
    "from pathlib import Path\n",
    "import rioxarray\n",
    "from tqdm import tqdm"
   ],
   "outputs": [],
   "execution_count": null
  },
  {
   "metadata": {},
   "cell_type": "markdown",
   "source": "# Example for downloaded dataset"
  },
  {
   "cell_type": "code",
   "metadata": {},
   "source": [
    "datadir = Path('/run/media/khan/Workbench/Developments/Bengal/Data')\n",
    "database = Database(datadir)"
   ],
   "outputs": [],
   "execution_count": null
  },
  {
   "cell_type": "code",
   "metadata": {},
   "source": [
    "database"
   ],
   "outputs": [],
   "execution_count": null
  },
  {
   "cell_type": "code",
   "metadata": {},
   "source": [
    "maskdir = Path('/run/media/khan/Workbench/Developments/Bengal/Masks')\n",
    "create_mask(database=database, maskdir=maskdir, nmask=0.5, ext='tif', band='B11')"
   ],
   "outputs": [],
   "execution_count": null
  },
  {
   "cell_type": "code",
   "metadata": {},
   "source": [
    "database.tiles"
   ],
   "outputs": [],
   "execution_count": null
  },
  {
   "metadata": {},
   "cell_type": "markdown",
   "source": "# Example for Pekel et al. dataset"
  },
  {
   "metadata": {},
   "cell_type": "code",
   "source": [
    "rootdir = Path('F:/Sentinel2')\n",
    "datadir = rootdir / 'Data'\n",
    "database = Database(datadir)"
   ],
   "outputs": [],
   "execution_count": null
  },
  {
   "metadata": {},
   "cell_type": "code",
   "source": [
    "# Merging Pekel dataset\n",
    "# Run once only\n",
    "from rioxarray.merge import merge_arrays\n",
    "\n",
    "pekel_dir = Path('F:/Sentinel2/Auxiliary/Pekel_etal_2016/')\n",
    "\n",
    "fnames = [\n",
    "    'occurrence_40E_10Sv1_4_2021.tif',\n",
    "    'occurrence_40E_20Sv1_4_2021.tif',\n",
    "    'occurrence_50E_10Sv1_4_2021.tif',\n",
    "    'occurrence_50E_20Sv1_4_2021.tif'\n",
    "]\n",
    "\n",
    "datasets = [rio.open_rasterio(pekel_dir / fname) for fname in fnames]\n",
    "merged_ds = merge_arrays(datasets)\n",
    "merged_ds.rio.to_raster('F:/Sentinel2/Auxiliary/Pekel_etal_2016/occurrence_madagascar.tif')"
   ],
   "outputs": [],
   "execution_count": null
  },
  {
   "metadata": {},
   "cell_type": "code",
   "source": "ds_mask_global = rioxarray.open_rasterio('F:/Sentinel2/Auxiliary/Pekel_etal_2016/occurrence_madagascar.tif')",
   "outputs": [],
   "execution_count": null
  },
  {
   "metadata": {},
   "cell_type": "code",
   "source": [
    "maskdir = rootdir / 'Masks_Pekel'\n",
    "if not maskdir.exists():\n",
    "    maskdir.mkdir()\n",
    "\n",
    "for tile in tqdm(database):\n",
    "    ds_band = rioxarray.open_rasterio(database[tile][0]['bands']['B11'])\n",
    "    ds_mask_local = ds_mask_global.rio.reproject_match(ds_band)\n",
    "\n",
    "    # Mask land 0, water 1\n",
    "    ds_mask_local = (ds_mask_local >= 25).astype(int)\n",
    "    ds_mask_local.rio.to_raster(maskdir / f'{tile}.tif')"
   ],
   "outputs": [],
   "execution_count": null
  },
  {
   "metadata": {},
   "cell_type": "code",
   "source": [
    "database_test = {key: database[key] for key in  ['T39KTV', 'T38KMG', 'T39KTS']}\n",
    "maskdir = rootdir / 'Masks_Sentinel2_Updated'\n",
    "if not maskdir.exists():\n",
    "    maskdir.mkdir()\n",
    "create_mask(database=database_test, maskdir=maskdir, nmask=0.75, ext='tif', band='B11', normalize=True)"
   ],
   "outputs": [],
   "execution_count": null
  }
 ],
 "metadata": {
  "kernelspec": {
   "display_name": "tumbleweed",
   "language": "python",
   "name": "python3"
  },
  "language_info": {
   "codemirror_mode": {
    "name": "ipython",
    "version": 3
   },
   "file_extension": ".py",
   "mimetype": "text/x-python",
   "name": "python",
   "nbconvert_exporter": "python",
   "pygments_lexer": "ipython3",
   "version": "3.9.18"
  }
 },
 "nbformat": 4,
 "nbformat_minor": 2
}
